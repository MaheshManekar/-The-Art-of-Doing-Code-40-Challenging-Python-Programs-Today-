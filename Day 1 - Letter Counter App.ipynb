{
 "cells": [
  {
   "cell_type": "code",
   "execution_count": 5,
   "id": "5c1100a1",
   "metadata": {},
   "outputs": [
    {
     "name": "stdout",
     "output_type": "stream",
     "text": [
      "############# Welcome to the Letter Counter App #############\n",
      "\n",
      "Enter you Name:-Mahesh\n",
      "\n",
      "Hi, Mahesh welcome to Letter Counter App\n",
      "\n",
      "Enter Text:- The Economic Times is an Indian English-language business-focused daily newspaper. It is owned by The Times Group. \n",
      "\n",
      "Which Letter you want to count:- l\n",
      "\n",
      "Hi,Mahesh the total count of l is 3\n"
     ]
    }
   ],
   "source": [
    "# Letter counter app\n",
    "\n",
    "print(\"############# Welcome to the Letter Counter App #############\")\n",
    "\n",
    "#------------------------------------------------------------------------------------------\n",
    "# Getting Username\n",
    "user_name= input(\"\\nEnter you Name:-\")\n",
    "print(f\"\\nHi, {user_name} welcome to Letter Counter App\")\n",
    "\n",
    "#------------------------------------------------------------------------------------------\n",
    "# Getting the text from user for which count of particular word is required\n",
    "input_text_to_count = input(\"\\nEnter Text:- \")\n",
    "letter_count = input(\"\\nWhich Letter you want to count:- \")\n",
    "\n",
    "#------------------------------------------------------------------------------------------\n",
    "# Text is passed to lower case to standardize the procedure\n",
    "\n",
    "input_text_to_count = input_text_to_count.lower()\n",
    "letter_count = letter_count.lower()\n",
    "\n",
    "#------------------------------------------------------------------------------------------\n",
    "# Counting the particular letter and displaying the output\n",
    "\n",
    "Total_count = input_text_to_count.count(letter_count)\n",
    "print(f\"\\nHi, {user_name} the total count of {letter_count} is {Total_count}\")\n",
    "\n",
    "\n"
   ]
  },
  {
   "cell_type": "code",
   "execution_count": null,
   "id": "486e4ab7",
   "metadata": {},
   "outputs": [],
   "source": []
  }
 ],
 "metadata": {
  "kernelspec": {
   "display_name": "Python 3 (ipykernel)",
   "language": "python",
   "name": "python3"
  },
  "language_info": {
   "codemirror_mode": {
    "name": "ipython",
    "version": 3
   },
   "file_extension": ".py",
   "mimetype": "text/x-python",
   "name": "python",
   "nbconvert_exporter": "python",
   "pygments_lexer": "ipython3",
   "version": "3.9.7"
  }
 },
 "nbformat": 4,
 "nbformat_minor": 5
}
